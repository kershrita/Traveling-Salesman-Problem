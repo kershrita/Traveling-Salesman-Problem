{
 "cells": [
  {
   "cell_type": "markdown",
   "id": "97c6ecf3",
   "metadata": {},
   "source": [
    "### Traveling Salesman Problem (TSP)\n",
    "The goal of the TSP is to find the shortest possible tour that visits a given set of cities exactly once and returns to the starting city.\n",
    "\n",
    "Representation is an ordered list of city numbers known as an order-basedGA.\n",
    "- 1) London 3) Dunedin 5) Beijing 7) Tokyo\n",
    "- 2) Venice 4) Singapore 6) Phoenix 8) Victoria\n",
    "\n",
    "### Using GAs we will solve this problem\n",
    "1. Initialization\n",
    "2. Fitness Evaluation\n",
    "3. Selection\n",
    "4. Crossover\n",
    "5. Mutation\n",
    "6. Replacement\n",
    "7. Termination"
   ]
  },
  {
   "cell_type": "code",
   "execution_count": 1,
   "id": "3b522929",
   "metadata": {},
   "outputs": [],
   "source": [
    "import random"
   ]
  },
  {
   "cell_type": "code",
   "execution_count": 2,
   "id": "29a49d8f",
   "metadata": {},
   "outputs": [],
   "source": [
    "cities = [\n",
    "    \"London\",\n",
    "    \"Venice\",\n",
    "    \"Dunedin\",\n",
    "    \"Singapore\",\n",
    "    \"Beijing\",\n",
    "    \"Phoenix\",\n",
    "    \"Tokyo\",\n",
    "    \"Victoria\"\n",
    "]\n",
    "\n",
    "city_coordinates = {\n",
    "    \"London\": (0, 0),\n",
    "    \"Venice\": (1, 5),\n",
    "    \"Dunedin\": (2, 3),\n",
    "    \"Singapore\": (5, 8),\n",
    "    \"Beijing\": (6, 2),\n",
    "    \"Phoenix\": (3, 7),\n",
    "    \"Tokyo\": (9, 4),\n",
    "    \"Victoria\": (8, 6)\n",
    "}"
   ]
  },
  {
   "cell_type": "code",
   "execution_count": 3,
   "id": "4bed5ba0",
   "metadata": {},
   "outputs": [],
   "source": [
    "population_size = 50\n",
    "num_generations = 100\n",
    "mutation_rate = 0.02"
   ]
  },
  {
   "cell_type": "code",
   "execution_count": 4,
   "id": "499dc7f5",
   "metadata": {},
   "outputs": [],
   "source": [
    "def calculate_distance(city1, city2):\n",
    "    x1, y1 = city_coordinates[city1]\n",
    "    x2, y2 = city_coordinates[city2]\n",
    "    return ((x2 - x1) ** 2 + (y2 - y1) ** 2) ** 0.5\n",
    "\n",
    "def generate_solution():\n",
    "    return random.sample(cities, len(cities))\n",
    "\n",
    "def calculate_route_distance(route):\n",
    "    total_distance = 0\n",
    "    for i in range(len(route)):\n",
    "        city1 = route[i]\n",
    "        city2 = route[(i + 1) % len(route)]\n",
    "        total_distance += calculate_distance(city1, city2)\n",
    "    return total_distance\n",
    "\n",
    "def crossover(parent1, parent2):\n",
    "    start_index = random.randint(0, len(parent1) - 1)\n",
    "    end_index = random.randint(start_index + 1, len(parent1))\n",
    "    offspring = [-1] * len(parent1)\n",
    "    offspring[start_index:end_index] = parent1[start_index:end_index]\n",
    "    for i in range(len(parent2)):\n",
    "        if parent2[i] not in offspring:\n",
    "            for j in range(len(offspring)):\n",
    "                if offspring[j] == -1:\n",
    "                    offspring[j] = parent2[i]\n",
    "                    break\n",
    "    return offspring\n",
    "\n",
    "def mutate(solution):\n",
    "    for i in range(len(solution)):\n",
    "        if random.random() < mutation_rate:\n",
    "            j = random.randint(0, len(solution) - 1)\n",
    "            solution[i], solution[j] = solution[j], solution[i]"
   ]
  },
  {
   "cell_type": "code",
   "execution_count": 5,
   "id": "44d7e8ec",
   "metadata": {},
   "outputs": [
    {
     "name": "stdout",
     "output_type": "stream",
     "text": [
      "Best solution: ['Phoenix', 'London', 'Dunedin', 'Beijing', 'Tokyo', 'Victoria', 'Singapore', 'Venice']\n",
      "Best distance: 32.62002766011951\n"
     ]
    }
   ],
   "source": [
    "population = []\n",
    "for _ in range(population_size):\n",
    "    solution = generate_solution()\n",
    "    population.append(solution)\n",
    "    \n",
    "for generation in range(num_generations):\n",
    "    # Evaluate the fitness of each solution in the population\n",
    "    fitness_scores = [1 / calculate_route_distance(solution) for solution in population]\n",
    "\n",
    "    # Select parent solutions using roulette wheel selection\n",
    "    parents = random.choices(population, weights=fitness_scores, k=2)\n",
    "\n",
    "    # Perform crossover to create offspring solutions\n",
    "    offspring = crossover(parents[0], parents[1])\n",
    "\n",
    "    # Apply mutation to the offspring solutions\n",
    "    mutate(offspring)\n",
    "\n",
    "    # Replace a random solution in the population with the offspring\n",
    "    index = random.randint(0, population_size - 1)\n",
    "    population[index] = offspring\n",
    "\n",
    "# Find the best solution after all generations\n",
    "best_solution = min(population, key=lambda x: calculate_route_distance(x))\n",
    "best_distance = calculate_route_distance(best_solution)\n",
    "\n",
    "print(\"Best solution:\", best_solution)\n",
    "print(\"Best distance:\", best_distance)\n"
   ]
  },
  {
   "cell_type": "code",
   "execution_count": null,
   "id": "8f3c860f",
   "metadata": {},
   "outputs": [],
   "source": []
  },
  {
   "cell_type": "code",
   "execution_count": null,
   "id": "3363140a",
   "metadata": {},
   "outputs": [],
   "source": []
  }
 ],
 "metadata": {
  "kernelspec": {
   "display_name": "Python 3 (ipykernel)",
   "language": "python",
   "name": "python3"
  },
  "language_info": {
   "codemirror_mode": {
    "name": "ipython",
    "version": 3
   },
   "file_extension": ".py",
   "mimetype": "text/x-python",
   "name": "python",
   "nbconvert_exporter": "python",
   "pygments_lexer": "ipython3",
   "version": "3.9.12"
  }
 },
 "nbformat": 4,
 "nbformat_minor": 5
}
